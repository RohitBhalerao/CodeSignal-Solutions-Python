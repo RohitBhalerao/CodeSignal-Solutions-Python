{
 "cells": [
  {
   "cell_type": "code",
   "execution_count": null,
   "metadata": {},
   "outputs": [],
   "source": [
    "def boxBlur(image):\n",
    "\n",
    "    r = len(image)\n",
    "    c = len(image[0])\n",
    "    ans = []\n",
    "    for i in range(1,r-1):\n",
    "        row=[]\n",
    "        for j in range(1,c-1):\n",
    "            row.append(sum([image[i+k][j+l] for k in [-1,0,1] for l in [-1,0,1]])//9)\n",
    "        ans.append(row)\n",
    "    return ans"
   ]
  }
 ],
 "metadata": {
  "kernelspec": {
   "display_name": "Python 3",
   "language": "python",
   "name": "python3"
  },
  "language_info": {
   "codemirror_mode": {
    "name": "ipython",
    "version": 3
   },
   "file_extension": ".py",
   "mimetype": "text/x-python",
   "name": "python",
   "nbconvert_exporter": "python",
   "pygments_lexer": "ipython3",
   "version": "3.7.3"
  }
 },
 "nbformat": 4,
 "nbformat_minor": 2
}

{
 "cells": [
  {
   "cell_type": "code",
   "execution_count": null,
   "metadata": {},
   "outputs": [],
   "source": [
    "def minesweeper(matrix):\n",
    "    r = [[0 for x in range(len(matrix[0]))] for y in range(len(matrix))]\n",
    "    for i in range(len(matrix)):\n",
    "        for j in range(len(matrix[0])):\n",
    "            for a in range(i-1,i+2):\n",
    "                for b in range(j-1,j+2):\n",
    "                    try:\n",
    "                        if a < 0 or b < 0:\n",
    "                            continue\n",
    "                        if matrix[i][j]:\n",
    "                            r[a][b] += 1\n",
    "                    except:\n",
    "                        continue\n",
    "            if matrix[i][j]: \n",
    "                r[i][j] -= 1\n",
    "    return r"
   ]
  }
 ],
 "metadata": {
  "kernelspec": {
   "display_name": "Python 3",
   "language": "python",
   "name": "python3"
  },
  "language_info": {
   "codemirror_mode": {
    "name": "ipython",
    "version": 3
   },
   "file_extension": ".py",
   "mimetype": "text/x-python",
   "name": "python",
   "nbconvert_exporter": "python",
   "pygments_lexer": "ipython3",
   "version": "3.7.3"
  }
 },
 "nbformat": 4,
 "nbformat_minor": 2
}

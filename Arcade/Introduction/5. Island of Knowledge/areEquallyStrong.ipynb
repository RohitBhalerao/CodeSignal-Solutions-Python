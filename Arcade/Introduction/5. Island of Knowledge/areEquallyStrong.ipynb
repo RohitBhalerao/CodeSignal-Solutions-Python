{
 "cells": [
  {
   "cell_type": "code",
   "execution_count": null,
   "metadata": {},
   "outputs": [],
   "source": [
    "def areEquallyStrong(yourLeft, yourRight, friendsLeft, friendsRight):\n",
    "            c=0 \n",
    "            d=0\n",
    "            if yourLeft==friendsLeft or yourLeft==friendsRight:\n",
    "                      c=1\n",
    "            if yourRight==friendsLeft or yourRight == friendsRight:\n",
    "                      d=1\n",
    "            if (yourLeft+yourRight)==(friendsLeft+friendsRight) and c+d==2:\n",
    "                return True\n",
    "            else:\n",
    "                return False\n"
   ]
  }
 ],
 "metadata": {
  "kernelspec": {
   "display_name": "Python 3",
   "language": "python",
   "name": "python3"
  },
  "language_info": {
   "codemirror_mode": {
    "name": "ipython",
    "version": 3
   },
   "file_extension": ".py",
   "mimetype": "text/x-python",
   "name": "python",
   "nbconvert_exporter": "python",
   "pygments_lexer": "ipython3",
   "version": "3.7.3"
  }
 },
 "nbformat": 4,
 "nbformat_minor": 2
}

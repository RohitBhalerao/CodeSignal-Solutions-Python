{
 "cells": [
  {
   "cell_type": "code",
   "execution_count": null,
   "metadata": {},
   "outputs": [],
   "source": [
    "def buildPalindrome(st):\n",
    "    n = len(st)\n",
    "    a = \"\"\n",
    "    if st == st[::-1]:\n",
    "        return st\n",
    "    a = st + st[::-1][1:]\n",
    "    counter = len(a)\n",
    "    while counter > n:\n",
    "        if a[n:counter] == st[n-counter+n:n]:\n",
    "            return a[0:n] + a[counter:]\n",
    "        counter -= 1\n",
    "    return a \n",
    "                "
   ]
  }
 ],
 "metadata": {
  "kernelspec": {
   "display_name": "Python 3",
   "language": "python",
   "name": "python3"
  },
  "language_info": {
   "codemirror_mode": {
    "name": "ipython",
    "version": 3
   },
   "file_extension": ".py",
   "mimetype": "text/x-python",
   "name": "python",
   "nbconvert_exporter": "python",
   "pygments_lexer": "ipython3",
   "version": "3.7.3"
  }
 },
 "nbformat": 4,
 "nbformat_minor": 2
}

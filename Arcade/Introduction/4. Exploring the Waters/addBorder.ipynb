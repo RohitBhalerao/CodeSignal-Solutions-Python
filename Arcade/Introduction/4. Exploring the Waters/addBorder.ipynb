{
 "cells": [
  {
   "cell_type": "code",
   "execution_count": null,
   "metadata": {},
   "outputs": [],
   "source": [
    "def addBorder(picture, border_size=1):\n",
    "    max_substring_length = max(map(len, picture))\n",
    "    result = ['*' * (max_substring_length + 2)]\n",
    "    for substring in picture:\n",
    "        diff = max_substring_length - len(substring)\n",
    "        additional_length, extra = divmod(diff, 2)\n",
    "        prepend = '*' * (border_size + additional_length + extra)\n",
    "        append = '*' * (border_size + additional_length)\n",
    "        result.append(prepend + substring + append)\n",
    "    result.append('*' * (max_substring_length + border_size * 2))\n",
    "    return result\n"
   ]
  }
 ],
 "metadata": {
  "kernelspec": {
   "display_name": "Python 3",
   "language": "python",
   "name": "python3"
  },
  "language_info": {
   "codemirror_mode": {
    "name": "ipython",
    "version": 3
   },
   "file_extension": ".py",
   "mimetype": "text/x-python",
   "name": "python",
   "nbconvert_exporter": "python",
   "pygments_lexer": "ipython3",
   "version": "3.7.3"
  }
 },
 "nbformat": 4,
 "nbformat_minor": 2
}

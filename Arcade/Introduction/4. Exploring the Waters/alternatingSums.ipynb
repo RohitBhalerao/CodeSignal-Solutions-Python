{
 "cells": [
  {
   "cell_type": "code",
   "execution_count": null,
   "metadata": {},
   "outputs": [],
   "source": [
    "def alternatingSums(a):\n",
    "        b = 0\n",
    "        c = 0\n",
    "        d = []\n",
    "        for i in range(len(a)):\n",
    "                if i%2==0:\n",
    "                        b = b + (a[i])\n",
    "                else:\n",
    "                        c = c + (a[i])\n",
    "        d.append(b)\n",
    "        d.append(c)\n",
    "        return d\n"
   ]
  }
 ],
 "metadata": {
  "kernelspec": {
   "display_name": "Python 3",
   "language": "python",
   "name": "python3"
  },
  "language_info": {
   "codemirror_mode": {
    "name": "ipython",
    "version": 3
   },
   "file_extension": ".py",
   "mimetype": "text/x-python",
   "name": "python",
   "nbconvert_exporter": "python",
   "pygments_lexer": "ipython3",
   "version": "3.7.3"
  }
 },
 "nbformat": 4,
 "nbformat_minor": 2
}

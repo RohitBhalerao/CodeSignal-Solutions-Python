{
 "cells": [
  {
   "cell_type": "code",
   "execution_count": null,
   "metadata": {},
   "outputs": [],
   "source": [
    "def areSimilar(a, b):\n",
    "    if a==b:\n",
    "        return True\n",
    "    c=[]\n",
    "    bad_count=0\n",
    "    for y in range(len(a)):\n",
    "        if a[y]!=b[y]:\n",
    "            c+=[y]\n",
    "        if len(c)>2:\n",
    "            return False    \n",
    "    if len(c)==0:\n",
    "        return True\n",
    "    elif len(c)==2 and a[c[1]]==b[c[0]] and a[c[0]]==b[c[1]]:\n",
    "        return True\n",
    "    else:\n",
    "        return False"
   ]
  }
 ],
 "metadata": {
  "kernelspec": {
   "display_name": "Python 3",
   "language": "python",
   "name": "python3"
  },
  "language_info": {
   "codemirror_mode": {
    "name": "ipython",
    "version": 3
   },
   "file_extension": ".py",
   "mimetype": "text/x-python",
   "name": "python",
   "nbconvert_exporter": "python",
   "pygments_lexer": "ipython3",
   "version": "3.7.3"
  }
 },
 "nbformat": 4,
 "nbformat_minor": 2
}

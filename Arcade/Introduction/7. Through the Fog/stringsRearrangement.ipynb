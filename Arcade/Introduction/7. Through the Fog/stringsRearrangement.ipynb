{
 "cells": [
  {
   "cell_type": "code",
   "execution_count": null,
   "metadata": {},
   "outputs": [],
   "source": [
    "import itertools\n",
    "\n",
    "def stringsRearrangement(inputArray):\n",
    "\n",
    "    def f(x,y):\n",
    "        c = 0\n",
    "        for i in range(len(x)):\n",
    "            if x[i] != y[i]:\n",
    "                c += 1\n",
    "        if c == 1:\n",
    "            return True\n",
    "        return False\n",
    "    \n",
    "    \n",
    "    for k in itertools.permutations(inputArray, len(inputArray)):\n",
    "        r = True\n",
    "        for i in range(len(k)-1):\n",
    "            if not f(k[i], k[i+1]):\n",
    "                r = False\n",
    "        if r: \n",
    "            return True\n",
    "        \n",
    "    return False"
   ]
  }
 ],
 "metadata": {
  "kernelspec": {
   "display_name": "Python 3",
   "language": "python",
   "name": "python3"
  },
  "language_info": {
   "codemirror_mode": {
    "name": "ipython",
    "version": 3
   },
   "file_extension": ".py",
   "mimetype": "text/x-python",
   "name": "python",
   "nbconvert_exporter": "python",
   "pygments_lexer": "ipython3",
   "version": "3.7.3"
  }
 },
 "nbformat": 4,
 "nbformat_minor": 2
}

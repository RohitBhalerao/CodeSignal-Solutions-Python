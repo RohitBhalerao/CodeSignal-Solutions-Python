{
 "cells": [
  {
   "cell_type": "code",
   "execution_count": null,
   "metadata": {},
   "outputs": [],
   "source": [
    "def sudoku(grid):\n",
    "    subgrids = [grid[i][j:j+3] + grid[i+1][j:j+3] + grid[i+2][j:j+3] for i in (0, 3, 6) for j in (0, 3, 6)]\n",
    "    for number_group_type in grid, zip(*grid), subgrids:\n",
    "        for number_group in number_group_type:\n",
    "            if len(frozenset(number_group)) != 9:\n",
    "                return False\n",
    "    return True\n"
   ]
  }
 ],
 "metadata": {
  "kernelspec": {
   "display_name": "Python 3",
   "language": "python",
   "name": "python3"
  },
  "language_info": {
   "codemirror_mode": {
    "name": "ipython",
    "version": 3
   },
   "file_extension": ".py",
   "mimetype": "text/x-python",
   "name": "python",
   "nbconvert_exporter": "python",
   "pygments_lexer": "ipython3",
   "version": "3.7.3"
  }
 },
 "nbformat": 4,
 "nbformat_minor": 2
}

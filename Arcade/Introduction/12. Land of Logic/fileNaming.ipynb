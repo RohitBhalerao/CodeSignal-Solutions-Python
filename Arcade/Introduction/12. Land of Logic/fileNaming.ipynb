{
 "cells": [
  {
   "cell_type": "code",
   "execution_count": null,
   "metadata": {},
   "outputs": [],
   "source": [
    "def fileNaming(names):\n",
    "    for i in range(1,len(names)):\n",
    "        temp=names[i]\n",
    "        j=0\n",
    "        while(temp in names[:i]):\n",
    "            j+=1\n",
    "            temp=names[i]+'('+str(j)+')'\n",
    "        names[i]=temp\n",
    "    return names\n"
   ]
  }
 ],
 "metadata": {
  "kernelspec": {
   "display_name": "Python 3",
   "language": "python",
   "name": "python3"
  },
  "language_info": {
   "codemirror_mode": {
    "name": "ipython",
    "version": 3
   },
   "file_extension": ".py",
   "mimetype": "text/x-python",
   "name": "python",
   "nbconvert_exporter": "python",
   "pygments_lexer": "ipython3",
   "version": "3.7.3"
  }
 },
 "nbformat": 4,
 "nbformat_minor": 2
}

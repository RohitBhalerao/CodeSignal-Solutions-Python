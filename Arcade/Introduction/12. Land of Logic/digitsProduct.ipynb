{
 "cells": [
  {
   "cell_type": "code",
   "execution_count": null,
   "metadata": {},
   "outputs": [],
   "source": [
    "def digitsProduct(product):\n",
    "    if product == 0:\n",
    "        return 10\n",
    "    if product < 10:\n",
    "        return product\n",
    "    if not digitDiv(product):\n",
    "        return -1\n",
    "    p = list()\n",
    "    for i in range(2,10):\n",
    "        if product % i == 0:\n",
    "            v = digitsProduct(int(product/i))\n",
    "            if v != -1:\n",
    "                p.append(int(str(i) + str(v)))\n",
    "    if len(p) == 0:\n",
    "        return -1\n",
    "    return min(p)\n",
    "    \n",
    "def digitDiv(p):\n",
    "    for i in range(2,10):\n",
    "        if p/i == p//i:\n",
    "            return True\n",
    "    return False"
   ]
  }
 ],
 "metadata": {
  "kernelspec": {
   "display_name": "Python 3",
   "language": "python",
   "name": "python3"
  },
  "language_info": {
   "codemirror_mode": {
    "name": "ipython",
    "version": 3
   },
   "file_extension": ".py",
   "mimetype": "text/x-python",
   "name": "python",
   "nbconvert_exporter": "python",
   "pygments_lexer": "ipython3",
   "version": "3.7.3"
  }
 },
 "nbformat": 4,
 "nbformat_minor": 2
}

{
 "cells": [
  {
   "cell_type": "code",
   "execution_count": null,
   "metadata": {},
   "outputs": [],
   "source": [
    "def first_bad_pair(sequence, k):\n",
    "\n",
    "    if 0 < k < len(sequence) - 1:\n",
    "        if sequence[k-1] >= sequence[k+1]:\n",
    "            return k-1\n",
    "    for i in range(k+1, len(sequence)-1):\n",
    "        if sequence[i] >= sequence[i+1]:\n",
    "            return i\n",
    "    return -1\n",
    "\n",
    "def almostIncreasingSequence(sequence):\n",
    "\n",
    "    j = first_bad_pair(sequence, -1)\n",
    "    if j == -1:\n",
    "        return True  # List is increasing\n",
    "    if first_bad_pair(sequence, j) == -1:\n",
    "        return True  # Deleting earlier element makes increasing\n",
    "    if first_bad_pair(sequence, j+1) == -1:\n",
    "        return True  # Deleting later element makes increasing\n",
    "    return False "
   ]
  }
 ],
 "metadata": {
  "kernelspec": {
   "display_name": "Python 3",
   "language": "python",
   "name": "python3"
  },
  "language_info": {
   "codemirror_mode": {
    "name": "ipython",
    "version": 3
   },
   "file_extension": ".py",
   "mimetype": "text/x-python",
   "name": "python",
   "nbconvert_exporter": "python",
   "pygments_lexer": "ipython3",
   "version": "3.7.3"
  }
 },
 "nbformat": 4,
 "nbformat_minor": 2
}

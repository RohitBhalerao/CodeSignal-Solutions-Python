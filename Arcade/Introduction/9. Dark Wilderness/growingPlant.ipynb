{
 "cells": [
  {
   "cell_type": "code",
   "execution_count": null,
   "metadata": {},
   "outputs": [],
   "source": [
    "def growingPlant(upSpeed, downSpeed, desiredHeight):\n",
    "    height=0\n",
    "    count=0\n",
    "    \n",
    "    while(True):\n",
    "        count+=1\n",
    "        height+=upSpeed\n",
    "        if height >= desiredHeight:\n",
    "            return count\n",
    "        height-=downSpeed\n",
    "    \n"
   ]
  }
 ],
 "metadata": {
  "kernelspec": {
   "display_name": "Python 3",
   "language": "python",
   "name": "python3"
  },
  "language_info": {
   "codemirror_mode": {
    "name": "ipython",
    "version": 3
   },
   "file_extension": ".py",
   "mimetype": "text/x-python",
   "name": "python",
   "nbconvert_exporter": "python",
   "pygments_lexer": "ipython3",
   "version": "3.7.3"
  }
 },
 "nbformat": 4,
 "nbformat_minor": 2
}

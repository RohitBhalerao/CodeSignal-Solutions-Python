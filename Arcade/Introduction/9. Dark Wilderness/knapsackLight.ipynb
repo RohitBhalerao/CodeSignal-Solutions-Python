{
 "cells": [
  {
   "cell_type": "code",
   "execution_count": null,
   "metadata": {},
   "outputs": [],
   "source": [
    "def knapsackLight(value1, weight1, value2, weight2, maxW):\n",
    "\n",
    "            if weight1+weight2<=maxW:\n",
    "              return value1+value2\n",
    "            if min(weight1,weight2)>maxW:\n",
    "              return 0\n",
    "            \n",
    "            if weight1+weight2>maxW:\n",
    "                if weight1>maxW:\n",
    "                  return value2\n",
    "                  \n",
    "                if weight2>maxW:\n",
    "                  return value1\n",
    "                  \n",
    "                return max(value1,value2)\n",
    "                "
   ]
  }
 ],
 "metadata": {
  "kernelspec": {
   "display_name": "Python 3",
   "language": "python",
   "name": "python3"
  },
  "language_info": {
   "codemirror_mode": {
    "name": "ipython",
    "version": 3
   },
   "file_extension": ".py",
   "mimetype": "text/x-python",
   "name": "python",
   "nbconvert_exporter": "python",
   "pygments_lexer": "ipython3",
   "version": "3.7.3"
  }
 },
 "nbformat": 4,
 "nbformat_minor": 2
}

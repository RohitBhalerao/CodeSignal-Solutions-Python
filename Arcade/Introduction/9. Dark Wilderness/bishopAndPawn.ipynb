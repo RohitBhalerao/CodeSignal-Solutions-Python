{
 "cells": [
  {
   "cell_type": "code",
   "execution_count": null,
   "metadata": {},
   "outputs": [],
   "source": [
    "def bishopAndPawn(bishop, pawn):\n",
    "    return ord(bishop[0]) + ord(str(pawn[1])) == ord(str(bishop[1])) + ord(pawn[0]) or ord(bishop[0]) + ord(str(bishop[1])) ==  ord(pawn[0]) + ord(str(pawn[1]))\n"
   ]
  }
 ],
 "metadata": {
  "kernelspec": {
   "display_name": "Python 3",
   "language": "python",
   "name": "python3"
  },
  "language_info": {
   "codemirror_mode": {
    "name": "ipython",
    "version": 3
   },
   "file_extension": ".py",
   "mimetype": "text/x-python",
   "name": "python",
   "nbconvert_exporter": "python",
   "pygments_lexer": "ipython3",
   "version": "3.7.3"
  }
 },
 "nbformat": 4,
 "nbformat_minor": 2
}

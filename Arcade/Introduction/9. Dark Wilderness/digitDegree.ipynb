{
 "cells": [
  {
   "cell_type": "code",
   "execution_count": null,
   "metadata": {},
   "outputs": [],
   "source": [
    "def digitDegree(n):\n",
    "       a = sum(int(digit) for digit in str(n))\n",
    "       count = 1\n",
    "       if n<=9:\n",
    "              return 0\n",
    "       while a > 9:\n",
    "              a = sum(int(digit) for digit in str(a))\n",
    "              count += 1\n",
    "       return count\n"
   ]
  }
 ],
 "metadata": {
  "kernelspec": {
   "display_name": "Python 3",
   "language": "python",
   "name": "python3"
  },
  "language_info": {
   "codemirror_mode": {
    "name": "ipython",
    "version": 3
   },
   "file_extension": ".py",
   "mimetype": "text/x-python",
   "name": "python",
   "nbconvert_exporter": "python",
   "pygments_lexer": "ipython3",
   "version": "3.7.3"
  }
 },
 "nbformat": 4,
 "nbformat_minor": 2
}

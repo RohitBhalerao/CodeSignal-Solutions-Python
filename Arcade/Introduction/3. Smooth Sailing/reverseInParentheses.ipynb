{
 "cells": [
  {
   "cell_type": "code",
   "execution_count": null,
   "metadata": {},
   "outputs": [],
   "source": [
    "def reverseInParentheses(inputString):\n",
    "\n",
    "\n",
    "    for i in range(len(inputString)):\n",
    "        if inputString[i] == \"(\":\n",
    "            start = i\n",
    "        if inputString[i] == \")\":\n",
    "            end = i\n",
    "            return reverseInParentheses(inputString[:start] + inputString[start+1:end][::-1] + inputString[end+1:])\n",
    "    return inputString"
   ]
  }
 ],
 "metadata": {
  "kernelspec": {
   "display_name": "Python 3",
   "language": "python",
   "name": "python3"
  },
  "language_info": {
   "codemirror_mode": {
    "name": "ipython",
    "version": 3
   },
   "file_extension": ".py",
   "mimetype": "text/x-python",
   "name": "python",
   "nbconvert_exporter": "python",
   "pygments_lexer": "ipython3",
   "version": "3.7.3"
  }
 },
 "nbformat": 4,
 "nbformat_minor": 2
}

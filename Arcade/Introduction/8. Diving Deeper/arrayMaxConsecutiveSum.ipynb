{
 "cells": [
  {
   "cell_type": "code",
   "execution_count": null,
   "metadata": {},
   "outputs": [],
   "source": [
    "def arrayMaxConsecutiveSum(inputArray, k):\n",
    "    \n",
    "    s = m = sum(inputArray[:k])\n",
    "    for i in range(k, len(inputArray)):\n",
    "        s += inputArray[i] - inputArray[i-k]\n",
    "        if s > m: m = s\n",
    "    return m"
   ]
  }
 ],
 "metadata": {
  "kernelspec": {
   "display_name": "Python 3",
   "language": "python",
   "name": "python3"
  },
  "language_info": {
   "codemirror_mode": {
    "name": "ipython",
    "version": 3
   },
   "file_extension": ".py",
   "mimetype": "text/x-python",
   "name": "python",
   "nbconvert_exporter": "python",
   "pygments_lexer": "ipython3",
   "version": "3.7.3"
  }
 },
 "nbformat": 4,
 "nbformat_minor": 2
}

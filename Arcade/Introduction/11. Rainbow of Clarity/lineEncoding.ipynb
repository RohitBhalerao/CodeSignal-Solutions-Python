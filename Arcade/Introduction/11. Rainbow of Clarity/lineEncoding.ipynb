{
 "cells": [
  {
   "cell_type": "code",
   "execution_count": null,
   "metadata": {},
   "outputs": [],
   "source": [
    "def lineEncoding(s):\n",
    "    listS = []\n",
    "    lastChange = 0\n",
    "    for i in range(0,len(s)-1):\n",
    "        if(s[i] != s[i+1]): \n",
    "            listS.append(s[lastChange:i+1])\n",
    "            lastChange = i+1\n",
    "    listS.append(s[lastChange:len(s)])\n",
    "    for j in range(0,len(listS)):\n",
    "        if(len(listS[j]) != 1): \n",
    "            listS[j] = str(len(listS[j]))+listS[j][0]\n",
    "    return ''.join(listS)"
   ]
  }
 ],
 "metadata": {
  "kernelspec": {
   "display_name": "Python 3",
   "language": "python",
   "name": "python3"
  },
  "language_info": {
   "codemirror_mode": {
    "name": "ipython",
    "version": 3
   },
   "file_extension": ".py",
   "mimetype": "text/x-python",
   "name": "python",
   "nbconvert_exporter": "python",
   "pygments_lexer": "ipython3",
   "version": "3.7.3"
  }
 },
 "nbformat": 4,
 "nbformat_minor": 2
}

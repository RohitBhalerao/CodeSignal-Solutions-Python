{
 "cells": [
  {
   "cell_type": "code",
   "execution_count": null,
   "metadata": {},
   "outputs": [],
   "source": [
    "a = string.ascii_lowercase\n",
    "t = [(1, 2), (2, 1), (2, -1), (1, -2), (-1, -2), (-2, -1), (-2, 1), (-1, 2)]\n",
    "\n",
    "def chessKnight(c):\n",
    "    x, y = list(c)\n",
    "    \n",
    "    x = a.find(x) + 1\n",
    "    y = int(y)\n",
    "    d = 0\n",
    "    \n",
    "    for i, j in t:\n",
    "        if 1 <= x + i <= 8 and 1 <= y + j <= 8:\n",
    "            d += 1\n",
    "            \n",
    "    return d"
   ]
  }
 ],
 "metadata": {
  "kernelspec": {
   "display_name": "Python 3",
   "language": "python",
   "name": "python3"
  },
  "language_info": {
   "codemirror_mode": {
    "name": "ipython",
    "version": 3
   },
   "file_extension": ".py",
   "mimetype": "text/x-python",
   "name": "python",
   "nbconvert_exporter": "python",
   "pygments_lexer": "ipython3",
   "version": "3.7.3"
  }
 },
 "nbformat": 4,
 "nbformat_minor": 2
}

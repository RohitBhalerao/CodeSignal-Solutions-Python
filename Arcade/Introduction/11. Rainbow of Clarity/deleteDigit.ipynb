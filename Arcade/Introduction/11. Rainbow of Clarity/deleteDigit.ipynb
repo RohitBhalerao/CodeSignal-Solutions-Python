{
 "cells": [
  {
   "cell_type": "code",
   "execution_count": null,
   "metadata": {},
   "outputs": [],
   "source": [
    "def deleteDigit(n):\n",
    "    x=list(str(n))\n",
    "    test=[]\n",
    "    for i in range(len(x)):\n",
    "        x.pop(i)\n",
    "        test.append(''.join(x))\n",
    "        x=list(str(n))\n",
    "        \n",
    "    return int(max(test))"
   ]
  }
 ],
 "metadata": {
  "kernelspec": {
   "display_name": "Python 3",
   "language": "python",
   "name": "python3"
  },
  "language_info": {
   "codemirror_mode": {
    "name": "ipython",
    "version": 3
   },
   "file_extension": ".py",
   "mimetype": "text/x-python",
   "name": "python",
   "nbconvert_exporter": "python",
   "pygments_lexer": "ipython3",
   "version": "3.7.3"
  }
 },
 "nbformat": 4,
 "nbformat_minor": 2
}
